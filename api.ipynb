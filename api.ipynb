{
 "cells": [
  {
   "cell_type": "markdown",
   "metadata": {},
   "source": [
    "# Notebook de desarrollo \n",
    "## API juegos olimpicos"
   ]
  },
  {
   "cell_type": "code",
   "execution_count": 1,
   "metadata": {},
   "outputs": [],
   "source": [
    "# importando librerias\n",
    "import pandas as pd\n",
    "import numpy as np\n",
    "from fastapi import FastAPI"
   ]
  },
  {
   "cell_type": "markdown",
   "metadata": {},
   "source": [
    "- instanciando Fastapi"
   ]
  },
  {
   "cell_type": "code",
   "execution_count": 2,
   "metadata": {},
   "outputs": [],
   "source": [
    "app = FastAPI()"
   ]
  },
  {
   "cell_type": "markdown",
   "metadata": {},
   "source": [
    "### Cargar Datasets"
   ]
  },
  {
   "cell_type": "code",
   "execution_count": 3,
   "metadata": {},
   "outputs": [],
   "source": [
    "df = pd.read_parquet('Data/Dataset.parquet')"
   ]
  },
  {
   "cell_type": "markdown",
   "metadata": {},
   "source": [
    "## Funciones\n",
    "- Función inicio"
   ]
  },
  {
   "cell_type": "code",
   "execution_count": 4,
   "metadata": {},
   "outputs": [],
   "source": [
    "app.get(\"/\")\n",
    "def index(): \n",
    "    return {\"API:online\"}"
   ]
  },
  {
   "cell_type": "markdown",
   "metadata": {},
   "source": [
    "Función Medals"
   ]
  },
  {
   "cell_type": "code",
   "execution_count": 5,
   "metadata": {},
   "outputs": [],
   "source": [
    "app.get(\"/medals\")\n",
    "def medals():\n",
    "    medals = df['Medal'].value_counts()\n",
    "    return {medals.index[0]:medals.values[0],medals.index[1]:medals.values[1],medals.index[2]:medals.values[2]}"
   ]
  },
  {
   "cell_type": "code",
   "execution_count": 6,
   "metadata": {},
   "outputs": [],
   "source": [
    "@app.get(\"/medals{medal}\")\n",
    "def medals():\n",
    "    medal = df['Medal'].value_counts()\n",
    "    dic={}\n",
    "    for i in range(len(medal)):\n",
    "        dic[medal.index[i]]=medal.values[i]"
   ]
  },
  {
   "cell_type": "markdown",
   "metadata": {},
   "source": [
    "## Función medal_country(país)"
   ]
  },
  {
   "cell_type": "code",
   "execution_count": 7,
   "metadata": {},
   "outputs": [],
   "source": [
    "@app.get(\"/medals_country/{pais}\")\n",
    "def medals_country(pais:str):\n",
    "    filtro = df[df['Team'] == pais]\n",
    "    medallas = filtro['Medal'].value_counts()\n",
    "    dic = {}\n",
    "    for i in range(len(medallas)):\n",
    "        dic[medallas.index[i]]=int(medallas.values[i])\n",
    "    return dic"
   ]
  },
  {
   "cell_type": "code",
   "execution_count": 8,
   "metadata": {},
   "outputs": [
    {
     "data": {
      "text/plain": [
       "{'Gold': 557, 'Silver': 525, 'Bronze': 521}"
      ]
     },
     "execution_count": 8,
     "metadata": {},
     "output_type": "execute_result"
    }
   ],
   "source": [
    "medals_country('Italy')"
   ]
  },
  {
   "cell_type": "code",
   "execution_count": 9,
   "metadata": {},
   "outputs": [],
   "source": [
    "@app.get(\"/medal_year/{year}\")\n",
    "def medal_year(year:int):\n",
    "    filtro = df[df['Year'] == year]\n",
    "    medallas = filtro['Medal'].value_counts()\n",
    "    dic = {}\n",
    "    for i in range(len(medallas)):\n",
    "        dic[medallas.index[i]]=int(medallas.values[i])\n",
    "    return dic"
   ]
  },
  {
   "cell_type": "code",
   "execution_count": 10,
   "metadata": {},
   "outputs": [
    {
     "data": {
      "text/plain": [
       "{'Bronze': 679, 'Gold': 632, 'Silver': 630}"
      ]
     },
     "execution_count": 10,
     "metadata": {},
     "output_type": "execute_result"
    }
   ],
   "source": [
    "medal_year(2012)"
   ]
  },
  {
   "cell_type": "code",
   "execution_count": 11,
   "metadata": {},
   "outputs": [],
   "source": [
    "@app.get(\"/athletes/{nombre}\")\n",
    "def athletes (nombre:str):\n",
    "    filtro = df[df['Name'] == nombre]\n",
    "    dic={}\n",
    "    if filtro.empty:\n",
    "        return{'Error':'Revise los datos ingresados'}\n",
    "    dic['Nombre']=nombre\n",
    "    dic['sexo']=filtro['Sex'].values[0]\n",
    "    dic['Edad']=int(filtro['Age'].values[0])\n",
    "    dic['Pais']=list(filtro['Team'].value_counts().index)\n",
    "    dic['Juegos']=list(filtro['Games'].value_counts().index)\n",
    "    dic['Evento']=list(filtro['Event'].value_counts().index)\n",
    "    medallas={}\n",
    "    for i in range(len(filtro['Medal'].value_counts())):\n",
    "        medallas[filtro['Medal'].value_counts().index[i]]=int(filtro['Medal'].value_counts().values[i])\n",
    "    dic['Medallas']=medallas\n",
    "    return dic"
   ]
  },
  {
   "cell_type": "code",
   "execution_count": 12,
   "metadata": {},
   "outputs": [
    {
     "data": {
      "text/plain": [
       "{'Nombre': 'Edgar Lindenau Aabye',\n",
       " 'sexo': 'M',\n",
       " 'Edad': 34,\n",
       " 'Pais': ['Denmark/Sweden'],\n",
       " 'Juegos': ['1900 Summer'],\n",
       " 'Evento': [\"Tug-Of-War Men's Tug-Of-War\"],\n",
       " 'Medallas': {'Gold': 1}}"
      ]
     },
     "execution_count": 12,
     "metadata": {},
     "output_type": "execute_result"
    }
   ],
   "source": [
    "athletes('Edgar Lindenau Aabye')"
   ]
  }
 ],
 "metadata": {
  "kernelspec": {
   "display_name": "Python 3",
   "language": "python",
   "name": "python3"
  },
  "language_info": {
   "codemirror_mode": {
    "name": "ipython",
    "version": 3
   },
   "file_extension": ".py",
   "mimetype": "text/x-python",
   "name": "python",
   "nbconvert_exporter": "python",
   "pygments_lexer": "ipython3",
   "version": "3.11.0"
  }
 },
 "nbformat": 4,
 "nbformat_minor": 2
}
